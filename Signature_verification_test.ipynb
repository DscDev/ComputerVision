{
 "cells": [
  {
   "cell_type": "code",
   "execution_count": 5,
   "metadata": {},
   "outputs": [
    {
     "ename": "error",
     "evalue": "C:\\build\\master_winpack-bindings-win64-vc14-static\\opencv\\modules\\imgproc\\src\\smooth.cpp:2062: error: (-215) ksize.width > 0 && ksize.width % 2 == 1 && ksize.height > 0 && ksize.height % 2 == 1 in function cv::createGaussianKernels\n",
     "output_type": "error",
     "traceback": [
      "\u001b[1;31m\u001b[0m",
      "\u001b[1;31merror\u001b[0mTraceback (most recent call last)",
      "\u001b[1;32m<ipython-input-5-cefbe2e3569e>\u001b[0m in \u001b[0;36m<module>\u001b[1;34m()\u001b[0m\n\u001b[0;32m     19\u001b[0m \u001b[1;33m\u001b[0m\u001b[0m\n\u001b[0;32m     20\u001b[0m \u001b[1;31m# Gaussian Blur\u001b[0m\u001b[1;33m\u001b[0m\u001b[1;33m\u001b[0m\u001b[0m\n\u001b[1;32m---> 21\u001b[1;33m \u001b[0mimage\u001b[0m \u001b[1;33m=\u001b[0m \u001b[0mcv2\u001b[0m\u001b[1;33m.\u001b[0m\u001b[0mGaussianBlur\u001b[0m\u001b[1;33m(\u001b[0m\u001b[0mimage\u001b[0m\u001b[1;33m,\u001b[0m \u001b[1;33m(\u001b[0m\u001b[1;36m10\u001b[0m\u001b[1;33m,\u001b[0m\u001b[1;36m10\u001b[0m\u001b[1;33m)\u001b[0m\u001b[1;33m,\u001b[0m \u001b[1;36m0\u001b[0m\u001b[1;33m)\u001b[0m\u001b[1;33m\u001b[0m\u001b[0m\n\u001b[0m\u001b[0;32m     22\u001b[0m \u001b[0mcv2\u001b[0m\u001b[1;33m.\u001b[0m\u001b[0mimshow\u001b[0m\u001b[1;33m(\u001b[0m\u001b[1;34m\"Gaussian Blurring\"\u001b[0m\u001b[1;33m,\u001b[0m \u001b[0mimage\u001b[0m\u001b[1;33m)\u001b[0m\u001b[1;33m\u001b[0m\u001b[0m\n\u001b[0;32m     23\u001b[0m \u001b[0mcv2\u001b[0m\u001b[1;33m.\u001b[0m\u001b[0mwaitKey\u001b[0m\u001b[1;33m(\u001b[0m\u001b[1;36m0\u001b[0m\u001b[1;33m)\u001b[0m\u001b[1;33m\u001b[0m\u001b[0m\n",
      "\u001b[1;31merror\u001b[0m: C:\\build\\master_winpack-bindings-win64-vc14-static\\opencv\\modules\\imgproc\\src\\smooth.cpp:2062: error: (-215) ksize.width > 0 && ksize.width % 2 == 1 && ksize.height > 0 && ksize.height % 2 == 1 in function cv::createGaussianKernels\n"
     ]
    }
   ],
   "source": [
    "import cv2\n",
    "import numpy as np\n",
    "\n",
    "image = cv2.imread('images/signatures/drsc/legit_2.jpg',0)\n",
    "#kernel = np.ones((100,100), np.uint8)\n",
    "#img = cv2.erode(img, kernel, iterations = 1)\n",
    "cv2.imshow('Original...',image)\n",
    "cv2.waitKey()\n",
    "# ESCALANDO\n",
    "# Obtenemos las filas y columnas\n",
    "height=500\n",
    "original_h, original_w = np.float32(image.shape[:2])\n",
    "# Calculamos el ancho que tendra con respecto al alto(100)\n",
    "width = int( height * ( original_w / original_h ) )\n",
    "# Escalamos la imagen\n",
    "image = cv2.resize(image, (width, height), interpolation = cv2.INTER_AREA)\n",
    "cv2.imshow('Scaled...',image)\n",
    "cv2.waitKey()\n",
    "\n",
    "# Gaussian Blur\n",
    "image = cv2.GaussianBlur(image, (10,10), 0)\n",
    "cv2.imshow(\"Gaussian Blurring\", image)\n",
    "cv2.waitKey(0)\n",
    "\n",
    "# Binarization\n",
    "ret,thresh = cv2.threshold(image,127,255,0)\n",
    "cv2.imshow('Binarized...',thresh)\n",
    "cv2.waitKey()\n",
    "_,contours,hierarchy = cv2.findContours(thresh, cv2.RETR_EXTERNAL, cv2.CHAIN_APPROX_SIMPLE)\n",
    "\n",
    "#DIBUJANDO CONTOURS...\n",
    "image_w_contours = thresh.copy()\n",
    "cv2.drawContours(image_w_contours, contours, -1, (0,255,0), 3)\n",
    "cv2.imshow('With Contours...',image_w_contours)\n",
    "cv2.waitKey()\n",
    "\n",
    "cnt = contours[0]\n",
    "\n",
    "# Bounding Rect\n",
    "x,y,w,h = cv2.boundingRect(cnt)\n",
    "\n",
    "# Cropping\n",
    "image = image[y:y+h,x:x+w]\n",
    "\n",
    "cv2.imshow('Cropped',image)\n",
    "cv2.waitKey()\n",
    "cv2.destroyAllWindows()\n"
   ]
  },
  {
   "cell_type": "code",
   "execution_count": 16,
   "metadata": {},
   "outputs": [
    {
     "data": {
      "text/plain": [
       "[array([[[  0,   0]],\n",
       " \n",
       "        [[  0, 499]],\n",
       " \n",
       "        [[889, 499]],\n",
       " \n",
       "        [[889, 287]],\n",
       " \n",
       "        [[888, 287]],\n",
       " \n",
       "        [[886, 285]],\n",
       " \n",
       "        [[886, 282]],\n",
       " \n",
       "        [[889, 279]],\n",
       " \n",
       "        [[889,   0]]])]"
      ]
     },
     "execution_count": 16,
     "metadata": {},
     "output_type": "execute_result"
    }
   ],
   "source": [
    "contours"
   ]
  }
 ],
 "metadata": {
  "kernelspec": {
   "display_name": "Python 2",
   "language": "python",
   "name": "python2"
  },
  "language_info": {
   "codemirror_mode": {
    "name": "ipython",
    "version": 2
   },
   "file_extension": ".py",
   "mimetype": "text/x-python",
   "name": "python",
   "nbconvert_exporter": "python",
   "pygments_lexer": "ipython2",
   "version": "2.7.13"
  }
 },
 "nbformat": 4,
 "nbformat_minor": 2
}
