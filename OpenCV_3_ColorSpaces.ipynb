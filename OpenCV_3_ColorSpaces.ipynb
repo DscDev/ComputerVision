{
 "cells": [
  {
   "cell_type": "code",
   "execution_count": 11,
   "metadata": {},
   "outputs": [],
   "source": [
    "# El ColorSpace por defecto en OpenCV es RGB, un modelo que genera los colores combinando azul(Blu), Verde(Green), y rojo(Red) y\n",
    "# diferentes intensidades/brillo.Sin embargo OpenCV almacena las imagenes en BGR format, debido a como los enteros de 32-bit \n",
    "# sin signo son almacenados en memoria\n",
    "# HSV(Hue, Saturacion & Value/Brightness) es un colorSpace que intenta representar la manera como los humanos los perciben\n",
    "import cv2\n",
    "import numpy as np\n",
    "\n",
    "image = cv2.imread('./images/input.png')\n"
   ]
  },
  {
   "cell_type": "code",
   "execution_count": 7,
   "metadata": {},
   "outputs": [
    {
     "name": "stdout",
     "output_type": "stream",
     "text": [
      "4 3 1\n"
     ]
    }
   ],
   "source": [
    "# valores BGR para e primer 0,0 pixel\n",
    "# cada Pixel tiene tres valores (Blue, Green, Red) en ese orden\n",
    "B,G,R = image[0,0]\n",
    "print B, G, R"
   ]
  },
  {
   "cell_type": "code",
   "execution_count": 4,
   "metadata": {},
   "outputs": [
    {
     "name": "stdout",
     "output_type": "stream",
     "text": [
      "(708L, 1271L)\n"
     ]
    }
   ],
   "source": [
    "# Escala de grises solo tiene 2 dimensiones\n",
    "# Cada pixel solo tiene un valor desde 0 hasta 255\n",
    "gray_img = cv2.cvtColor(image, cv2.COLOR_BGR2GRAY)\n",
    "print gray_img.shape"
   ]
  },
  {
   "cell_type": "code",
   "execution_count": 3,
   "metadata": {},
   "outputs": [],
   "source": [
    "# HSV, es muy util en filtrado de colores\n",
    "\n",
    "hsv_image = cv2.cvtColor(image, cv2.COLOR_BGR2HSV)\n",
    "\n",
    "cv2.imshow('HSV image', hsv_image)\n",
    "cv2.imshow('Hue Channel', hsv_image[:,:,0])\n",
    "cv2.imshow('Saturation Channel', hsv_image[:,:,1])\n",
    "cv2.imshow('Value Channel', hsv_image[:,:,2])\n",
    "\n",
    "cv2.waitKey(0)\n",
    "cv2.destroyAllWindows() \n"
   ]
  },
  {
   "cell_type": "code",
   "execution_count": 5,
   "metadata": {},
   "outputs": [
    {
     "name": "stdout",
     "output_type": "stream",
     "text": [
      "(708L, 1271L)\n"
     ]
    }
   ],
   "source": [
    "# La funcion 'split' divide la imagen en cada color \n",
    "B,G,R = cv2.split(image)\n",
    "print B.shape\n",
    "cv2.imshow(\"Red\", R)\n",
    "cv2.imshow(\"Green\", G)\n",
    "cv2.imshow(\"Blue\", B)\n",
    "cv2.waitKey(0)\n",
    "cv2.destroyAllWindows() \n",
    "\n",
    "# re-hagamos la imagen orifinal\n",
    "merged = cv2.merge([B, G, R])\n",
    "cv2.imshow(\"Merged\", merged)\n",
    "\n",
    "# amplifiquemos el color azul\n",
    "merged = cv2.merge([B+100, G, R])\n",
    "cv2.imshow('Merged whit Blue Amplified', merged)\n",
    "cv2.waitKey(0)\n",
    "cv2.destroyAllWindows()"
   ]
  },
  {
   "cell_type": "code",
   "execution_count": 14,
   "metadata": {},
   "outputs": [
    {
     "name": "stdout",
     "output_type": "stream",
     "text": [
      "[[ 12  12  12 ...,  89  71  53]\n",
      " [ 12  12  12 ...,  97  60  51]\n",
      " [ 13  13  13 ..., 113  60  51]\n",
      " ..., \n",
      " [ 26  26  26 ...,   9   9   9]\n",
      " [ 25  25  25 ...,  11  11  11]\n",
      " [ 23  24  24 ...,  12  12  12]]\n"
     ]
    }
   ],
   "source": [
    "import cv2\n",
    "import numpy as np\n",
    "B, G, R = cv2.split(image)\n",
    "\n",
    "print B\n",
    "\n",
    "# Creamos una matriz de Ceros\n",
    "# con las mismas dimensiones que la imagen h x w\n",
    "\n",
    "zeros = np.zeros(image.shape[:2], dtype = \"uint8\")\n",
    "\n",
    "\n",
    "cv2.imshow(\"Red\", cv2.merge([zeros, zeros, R]))\n",
    "cv2.imshow(\"Green\", cv2.merge([zeros, G, zeros]))\n",
    "cv2.imshow(\"Blue\", cv2.merge([B, zeros, zeros]))\n",
    "\n",
    "cv2.waitKey(0)\n",
    "cv2.destroyAllWindows()"
   ]
  }
 ],
 "metadata": {
  "kernelspec": {
   "display_name": "Python 2",
   "language": "python",
   "name": "python2"
  },
  "language_info": {
   "codemirror_mode": {
    "name": "ipython",
    "version": 2
   },
   "file_extension": ".py",
   "mimetype": "text/x-python",
   "name": "python",
   "nbconvert_exporter": "python",
   "pygments_lexer": "ipython2",
   "version": "2.7.14"
  }
 },
 "nbformat": 4,
 "nbformat_minor": 2
}
