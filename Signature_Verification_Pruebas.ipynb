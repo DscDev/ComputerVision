{
 "cells": [
  {
   "cell_type": "code",
   "execution_count": 2,
   "metadata": {
    "collapsed": true
   },
   "outputs": [],
   "source": [
    "import cv2\n",
    "import numpy as np\n",
    "\n",
    "image = cv2.imread('images/signatures/drsc/forgery_9.jpg',0)\n",
    "#cv2.imshow('Original', image)\n",
    "#cv2.waitKey()\n",
    "\n",
    "image = scale(image)\n",
    "#cv2.imshow('Scaled', image)\n",
    "#cv2.waitKey()\n",
    "\n",
    "ret, image = cv2.threshold(image, 127, 255, cv2.THRESH_BINARY)\n",
    "#cv2.imshow('Binarized', image)\n",
    "#cv2.waitKey()\n",
    "\n",
    "kernel = np.ones((1,1), np.uint8)\n",
    "image = cv2.erode(image, kernel, iterations = 1)\n",
    "\n",
    "#image = cv2.GaussianBlur(image, (7,7), 0)\n",
    "#cv2.imshow(\"Gaussian Blurring\", image)\n",
    "#cv2.waitKey(0)\n",
    "\n",
    "_,contours,hierarchy = cv2.findContours(255 - image, cv2.RETR_EXTERNAL, cv2.CHAIN_APPROX_NONE)\n",
    "\n",
    "max_area_contour = cv2.contourArea(contours[0])\n",
    "max_index = 0\n",
    "for index, contour in enumerate(contours):\n",
    "    index_area_contour = cv2.contourArea(contour)\n",
    "    if index_area_contour > max_area_contour:\n",
    "        max_area_contour = index_area_contour\n",
    "        max_index = index\n",
    "\n",
    "cnt = contours[max_index]    \n",
    "image = cv2.cvtColor(image, cv2.COLOR_GRAY2BGR)\n",
    "#cv2.drawContours(image, [cnt], -1, (0,0,255), 2)\n",
    "x,y,w,h = cv2.boundingRect(cnt)\n",
    "#cv2.rectangle(image,(x,y),(x+w,y+h),(0,255,0),2)\n",
    "\n",
    "cv2.imshow(\"Contours\", image)\n",
    "\n",
    "stencil = np.ones(image.shape).astype(image.dtype) * 255\n",
    "cv2.fillPoly(stencil, [cnt], (0,0,0))\n",
    "cv2.imshow(\"Stencil\", stencil)\n",
    "\n",
    "image = cv2.bitwise_or(image, stencil)\n",
    "\n",
    "cv2.imshow(\"Limpio\", image)\n",
    "\n",
    "\n",
    "image = image[y:y+h,x:x+w]\n",
    "cv2.imshow(\"Cropped\", image)\n",
    "\n",
    "cv2.waitKey(0)\n",
    "\n",
    "\n",
    "cv2.destroyAllWindows()"
   ]
  },
  {
   "cell_type": "code",
   "execution_count": 31,
   "metadata": {
    "collapsed": true
   },
   "outputs": [],
   "source": [
    "cv2.imshow(\"Limpio\", stencil)\n",
    "cv2.waitKey(0)\n",
    "cv2.destroyAllWindows()"
   ]
  },
  {
   "cell_type": "code",
   "execution_count": 1,
   "metadata": {
    "collapsed": true
   },
   "outputs": [],
   "source": [
    "def scale(image, height=500):\n",
    "    # Obtenemos las filas y columnas\n",
    "    original_h, original_w = np.float32(image.shape[:2])\n",
    "    # Calculamos el ancho que tendra con respecto al alto(100)\n",
    "    width = int( height * ( original_w / original_h ) )\n",
    "    # Escalamos la imagen\n",
    "    image_scaled = cv2.resize(image, (width, height), interpolation = cv2.INTER_AREA)\n",
    "    # Retornamos la imagen escalada\n",
    "    return image_scaled"
   ]
  }
 ],
 "metadata": {
  "kernelspec": {
   "display_name": "Python 2",
   "language": "python",
   "name": "python2"
  },
  "language_info": {
   "codemirror_mode": {
    "name": "ipython",
    "version": 2
   },
   "file_extension": ".py",
   "mimetype": "text/x-python",
   "name": "python",
   "nbconvert_exporter": "python",
   "pygments_lexer": "ipython2",
   "version": "2.7.13"
  }
 },
 "nbformat": 4,
 "nbformat_minor": 2
}
