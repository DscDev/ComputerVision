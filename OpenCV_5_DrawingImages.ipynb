{
 "cells": [
  {
   "cell_type": "code",
   "execution_count": 1,
   "metadata": {
    "collapsed": true
   },
   "outputs": [],
   "source": [
    "# Black square\n",
    "import cv2\n",
    "import numpy as np\n",
    "\n",
    "# Create a black image\n",
    "image = np.zeros((512,512,3),np.uint8)\n",
    "\n",
    "# Can we make this in black and white\n",
    "image_bw = np.zeros((512,512),np.uint8)\n",
    "\n",
    "\n",
    "cv2.imshow(\"Black Rectangle (Color)\", image);\n",
    "cv2.imshow(\"Black Rectangle (B&W)\", image_bw);\n",
    "\n",
    "cv2.waitKey(0)\n",
    "cv2.destroyAllWindows()"
   ]
  },
  {
   "cell_type": "code",
   "execution_count": 3,
   "metadata": {
    "collapsed": true
   },
   "outputs": [],
   "source": [
    "# Let's draw a line over our black square\n",
    "# cv2.line(image, starting coordinates, ending coordinates, color, thickness)\n",
    "import cv2\n",
    "import numpy as np\n",
    "# Draw a diagonal blue line of thickness of 5 pixels\n",
    "image = np.zeros((512,512,3),np.uint8)\n",
    "cv2.line(image,(0,0), (511,511), (255,127,0), 5)\n",
    "cv2.imshow(\"Blue Line\", image);\n",
    "\n",
    "cv2.waitKey(0)\n",
    "cv2.destroyAllWindows()"
   ]
  },
  {
   "cell_type": "code",
   "execution_count": 4,
   "metadata": {
    "collapsed": true
   },
   "outputs": [],
   "source": [
    "#Let's now draw a rectangle\n",
    "# cv2.rectangle(image, starting vertex, opposite vertex, color, thickness[-1 : fills rectangle])\n",
    "import cv2\n",
    "import numpy as np\n",
    "image = np.zeros((512,512,3),np.uint8)\n",
    "cv2.rectangle(image,(100,100), (300,250), (127,50,127), 5)\n",
    "cv2.imshow(\"Rectangle\", image);\n",
    "\n",
    "cv2.waitKey(0)\n",
    "cv2.destroyAllWindows()"
   ]
  },
  {
   "cell_type": "code",
   "execution_count": 6,
   "metadata": {
    "collapsed": true
   },
   "outputs": [],
   "source": [
    "#Let's now draw a rectangle\n",
    "# cv2.circle(image, center, radius, color, fill)\n",
    "import cv2\n",
    "import numpy as np\n",
    "image = np.zeros((512,512,3),np.uint8)\n",
    "cv2.circle(image,(350,350), 100, (15,75,50), -1)\n",
    "cv2.imshow(\"Circle\", image);\n",
    "\n",
    "cv2.waitKey(0)\n",
    "cv2.destroyAllWindows()"
   ]
  },
  {
   "cell_type": "code",
   "execution_count": 9,
   "metadata": {},
   "outputs": [],
   "source": [
    "# And polygons\n",
    "import cv2\n",
    "import numpy as np\n",
    "image = np.zeros((512,512,3),np.uint8)\n",
    "\n",
    "#let's define four points\n",
    "pts = np.array([[10,50],[400,50],[90,200],[50,500]],np.int32)\n",
    "\n",
    "# let's now rechape our points in form required by polylines\n",
    "pts = pts.reshape((-1,1,2))\n",
    "\n",
    "cv2.polylines(image,[pts], True, (0,0,255), 3)\n",
    "cv2.imshow(\"Polygon\", image);\n",
    "cv2.waitKey(0)\n",
    "cv2.destroyAllWindows()"
   ]
  },
  {
   "cell_type": "code",
   "execution_count": 21,
   "metadata": {},
   "outputs": [],
   "source": [
    "# Let's even add text with cv2.putText\n",
    "# cv2.putText(image, 'Text to Display', bottom left starting point, Font, Size, Color, Thickness)\n",
    "#FONT_HERSHEY_SIMPLEX,FONT_HERSHEY_PLAIN\n",
    "#FONT_HERSHEY_DUPLEX,FONT_HERSHEY_COMPLEX\n",
    "#FONT_HERSHEY_TRIPLEX,FONT_HERSHEY_COMPLEX_SMALL\n",
    "#FONT_HERSHEY_SCRIPT SIMPLEX\n",
    "#FONT_HERSHEY_SCRIPT_COMPLEX\n",
    "\n",
    "import cv2\n",
    "import numpy as np\n",
    "\n",
    "image = np.zeros((512,512,3),np.uint8)\n",
    "\n",
    "cv2.putText(image, \"Hello World!\", (75,290) , cv2.FONT_HERSHEY_COMPLEX, 2, (100,170,0), 3)\n",
    "\n",
    "cv2.imshow(\"Hello World!\", image);\n",
    "cv2.waitKey(0)\n",
    "cv2.destroyAllWindows()\n",
    "\n",
    "\n"
   ]
  }
 ],
 "metadata": {
  "kernelspec": {
   "display_name": "Python 2",
   "language": "python",
   "name": "python2"
  },
  "language_info": {
   "codemirror_mode": {
    "name": "ipython",
    "version": 2
   },
   "file_extension": ".py",
   "mimetype": "text/x-python",
   "name": "python",
   "nbconvert_exporter": "python",
   "pygments_lexer": "ipython2",
   "version": "2.7.14"
  }
 },
 "nbformat": 4,
 "nbformat_minor": 2
}
