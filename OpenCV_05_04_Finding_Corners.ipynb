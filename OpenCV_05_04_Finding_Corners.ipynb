{
 "cells": [
  {
   "cell_type": "code",
   "execution_count": 19,
   "metadata": {},
   "outputs": [],
   "source": [
    "import cv2\n",
    "import numpy as np\n",
    "\n",
    "# Load image the grayscale\n",
    "image = cv2.imread('images/signature.jpg')\n",
    "gray = cv2.cvtColor(image, cv2.COLOR_BGR2GRAY)\n",
    "\n",
    "# The cornerHarris function requires the array datatype to be float32\n",
    "gray = np.float32(gray)\n",
    "\n",
    "harris_corners = cv2.cornerHarris(gray, 3, 3, 0.05)\n",
    "\n",
    "# We use dilation of the corner points to enlarge them\n",
    "kernel = np.ones((7,7), np.uint8)\n",
    "harris_corners = cv2.dilate(harris_corners, kernel, iterations=2)\n",
    "\n",
    "# Threshold for an optimal value, it may vary depending on the image\n",
    "image[harris_corners > 0.025 * harris_corners.max()] = [255, 127, 127]\n",
    "\n",
    "cv2.imshow('Harris Corners', image)\n",
    "cv2.waitKey(0)\n",
    "cv2.destroyAllWindows()"
   ]
  },
  {
   "cell_type": "markdown",
   "metadata": {},
   "source": [
    "__ Harris Corner Detection is an algorithm developed in 1998 for corner detection and works fairly well. __\n",
    "\n",
    "http://www.bmva.org/bmvc/1988/avc-88-023.pdf\n",
    "\n",
    "__ cv2.cornerHarris__(input image, block size, ksize, k)\n",
    "\n",
    "- __ Input image __ should be grayscale and float32 style type\n",
    "- __ blockSize __ the size of neighborhood considered for corner detection\n",
    "- __ ksize __ aperture parameter of Sobel derivative used\n",
    "- __ k __ harris detector free parameter in the equation\n",
    "- __Output __ array of corner locations (x,y)"
   ]
  },
  {
   "cell_type": "code",
   "execution_count": 22,
   "metadata": {
    "collapsed": true
   },
   "outputs": [],
   "source": [
    "# IMPROVED CORNER DETECTION USING - GOOD FEATURES TO TRACK\n",
    "\n",
    "import cv2\n",
    "import numpy as np\n",
    "\n",
    "img = cv2.imread('images/signature.jpg')\n",
    "gray = cv2.cvtColor(img, cv2.COLOR_BGR2GRAY)\n",
    "# We specific the top 50 corners\n",
    "corners = cv2.goodFeaturesToTrack(gray, 50, 0.01, 15)\n",
    "for corner in corners:\n",
    "    x,y = corner[0]\n",
    "    x = int(x)\n",
    "    y = int(y)\n",
    "    cv2.rectangle(img, (x-10,y-10), (x+10, y+10), (0,255,0), 2)\n",
    "cv2.imshow('Corners Found', img)\n",
    "\n",
    "img_fake = cv2.imread('images/signature_fake.jpg')\n",
    "gray_fake = cv2.cvtColor(img_fake, cv2.COLOR_BGR2GRAY)\n",
    "# We specific the top 50 corners\n",
    "corners_fake = cv2.goodFeaturesToTrack(gray_fake, 50, 0.01, 15)\n",
    "for corner_fake in corners_fake:\n",
    "    x_fake,y_fake = corner_fake[0]\n",
    "    x_fake = int(x_fake)\n",
    "    y_fake = int(y_fake)\n",
    "    cv2.rectangle(img_fake, (x_fake-10,y_fake-10), (x_fake+10, y_fake+10), (0,255,0), 2)\n",
    "cv2.imshow('Corners Found in Fake', img_fake)\n",
    "\n",
    "                                  \n",
    "cv2.waitKey()\n",
    "cv2.destroyAllWindows()"
   ]
  },
  {
   "cell_type": "markdown",
   "metadata": {},
   "source": [
    "__ cv2.goodFeaturesToTrack__(input image, maxCorners, qualityLevel, minDistance)\n",
    "\n",
    "- __ Input Image __ 8-bit or floating-point 32-bit, single-channel image.\n",
    "- __ maxCorners __ Maximum number of norners with the quality of image corners. The parameter value is multiplied by the best corner quality measure (smallest eigenvalue). The corners with the quality measure less than the product are rejected. For example, if the best corner has the quality measure = 1500, and the qualityLevel=0.01 , then all the corners with the quality -- measure less than 15 are rejected.\n",
    "- __minDistance__ Minimum posible Euclidean distance between the returned corners"
   ]
  }
 ],
 "metadata": {
  "kernelspec": {
   "display_name": "Python 2",
   "language": "python",
   "name": "python2"
  },
  "language_info": {
   "codemirror_mode": {
    "name": "ipython",
    "version": 2
   },
   "file_extension": ".py",
   "mimetype": "text/x-python",
   "name": "python",
   "nbconvert_exporter": "python",
   "pygments_lexer": "ipython2",
   "version": "2.7.14"
  }
 },
 "nbformat": 4,
 "nbformat_minor": 2
}
