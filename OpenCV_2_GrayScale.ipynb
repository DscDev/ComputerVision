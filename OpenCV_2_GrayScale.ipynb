{
 "cells": [
  {
   "cell_type": "code",
   "execution_count": 1,
   "metadata": {},
   "outputs": [],
   "source": [
    "# Grayscale o Escala de Grises\n",
    "# en OpenCV, muchas funciones convierten a escala de grises las imagenes antes de procesarlas,\n",
    "# esto devido a que simplifica la imagen actuando casi como reduccion de ruido y incrementando\n",
    "# el tiempo de proceso dado que hay menos informacion.  \n",
    "import cv2\n",
    "\n",
    "image = cv2.imread('./images/input.png')\n",
    "gray_image = cv2.cvtColor(image, cv2.COLOR_BGR2GRAY)\n",
    "\n",
    "cv2.imwrite('./images/output_grayscale.jpg', gray_image)\n",
    "cv2.imshow('GrayScale', gray_image)\n",
    "cv2.waitKey(0)\n",
    "cv2.destroyAllWindows()"
   ]
  },
  {
   "cell_type": "code",
   "execution_count": 7,
   "metadata": {
    "collapsed": true
   },
   "outputs": [],
   "source": [
    "# lo mismo pero en menos lineas\n",
    "import cv2\n",
    "\n",
    "gray_image = cv2.imread('./images/input.png',0) \n",
    "\n",
    "cv2.imwrite('./images/gs2.jpg', gray_image);\n",
    "cv2.imshow('GrayScale', gray_image)\n",
    "cv2.waitKey(0)\n",
    "cv2.destroyAllWindows()\n"
   ]
  }
 ],
 "metadata": {
  "kernelspec": {
   "display_name": "Python 2",
   "language": "python",
   "name": "python2"
  },
  "language_info": {
   "codemirror_mode": {
    "name": "ipython",
    "version": 2
   },
   "file_extension": ".py",
   "mimetype": "text/x-python",
   "name": "python",
   "nbconvert_exporter": "python",
   "pygments_lexer": "ipython2",
   "version": "2.7.14"
  }
 },
 "nbformat": 4,
 "nbformat_minor": 2
}
