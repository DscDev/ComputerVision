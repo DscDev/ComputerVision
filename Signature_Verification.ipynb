{
 "cells": [
  {
   "cell_type": "markdown",
   "metadata": {},
   "source": [
    "# SIGNATURE VERIFICATION"
   ]
  },
  {
   "cell_type": "code",
   "execution_count": 23,
   "metadata": {},
   "outputs": [],
   "source": [
    "import cv2\n",
    "import numpy as np\n",
    "\n",
    "# ESCALAMIENTO\n",
    "# Metodo que permite escalar la imagen a un tamaño por default(100)\n",
    "# para que todas las imagenes posean el mismo tamaño\n",
    "def scale(image, height=300):\n",
    "    # Obtenemos las filas y columnas\n",
    "    original_h, original_w = np.float32(image.shape[:2])\n",
    "    # Calculamos el ancho que tendra con respecto al alto(100)\n",
    "    width = int( height * ( original_w / original_h ) )\n",
    "    # Escalamos la imagen\n",
    "    image_scaled = cv2.resize(image, (width, height), interpolation = cv2.INTER_AREA)\n",
    "    # Retornamos la imagen escalada\n",
    "    return image_scaled\n",
    "\n",
    "image = cv2.imread('images/signature.jpg')\n",
    "cv2.imshow('1.Signature Original', image)\n",
    "cv2.waitKey(0)\n",
    "# A ESCALA DE GRISES\n",
    "image = cv2.cvtColor(image, cv2.COLOR_BGR2GRAY)\n",
    "cv2.imshow('2.Signature GrayScale', image)\n",
    "cv2.waitKey(0)\n",
    "\n",
    "# ESCALAMIENTO\n",
    "image = scale(image)\n",
    "cv2.imshow('3.Signature Scaled', image)\n",
    "cv2.waitKey(0)\n",
    "\n",
    "# ELIMINACION DE RUIDO\n",
    "image = cv2.fastNlMeansDenoising(image, None, 6, 7, 21)\n",
    "cv2.imshow('4.Signature Denoised', image)\n",
    "cv2.waitKey(0)\n",
    "\n",
    "# BINARIZACION <127 -> 0 (black), >=127 -> 255 (white)\n",
    "ret, image = cv2.threshold(image, 127, 255, cv2.THRESH_BINARY_INV)\n",
    "cv2.imshow('5. Threshold Binary', image)\n",
    "cv2.waitKey(0)\n",
    "\n",
    "# THINING\n",
    "image = thinning(image)\n",
    "cv2.imshow('5. Thinning', image)\n",
    "cv2.waitKey(0)\n",
    "\n",
    "\n",
    "# *** ROTACION ***\n",
    "\n",
    "# *** EROSION ***\n",
    "kernel = np.ones((5,5), np.uint8)\n",
    "image = cv2.dilate(image, kernel, iterations = 1)\n",
    "cv2.imshow(\"7. Erosion\", image)\n",
    "cv2.waitKey(0)\n",
    "\n",
    "# *** DILATACION ***\n",
    "kernel = np.ones((5,5), np.uint8)\n",
    "image = cv2.erode(image, kernel, iterations = 1)\n",
    "cv2.imshow(\"6. Dilation\", image)\n",
    "cv2.waitKey(0)\n",
    "\n",
    "\n",
    "\n",
    "cv2.destroyAllWindows()"
   ]
  },
  {
   "cell_type": "code",
   "execution_count": 6,
   "metadata": {},
   "outputs": [
    {
     "data": {
      "text/plain": [
       "127.0"
      ]
     },
     "execution_count": 6,
     "metadata": {},
     "output_type": "execute_result"
    }
   ],
   "source": [
    "ret"
   ]
  },
  {
   "cell_type": "code",
   "execution_count": 2,
   "metadata": {},
   "outputs": [],
   "source": [
    "from scipy import weave\n",
    "import numpy as np\n",
    "import cv2\n",
    "import sys\n",
    "\n",
    "def _thinningIteration(im, iter):\n",
    "\tI, M = im, np.zeros(im.shape, np.uint8)\n",
    "\texpr = \"\"\"\n",
    "\tfor (int i = 1; i < NI[0]-1; i++) {\n",
    "\t\tfor (int j = 1; j < NI[1]-1; j++) {\n",
    "\t\t\tint p2 = I2(i-1, j);\n",
    "\t\t\tint p3 = I2(i-1, j+1);\n",
    "\t\t\tint p4 = I2(i, j+1);\n",
    "\t\t\tint p5 = I2(i+1, j+1);\n",
    "\t\t\tint p6 = I2(i+1, j);\n",
    "\t\t\tint p7 = I2(i+1, j-1);\n",
    "\t\t\tint p8 = I2(i, j-1);\n",
    "\t\t\tint p9 = I2(i-1, j-1);\n",
    "\n",
    "\t\t\tint A  = (p2 == 0 && p3 == 1) + (p3 == 0 && p4 == 1) +\n",
    "\t\t\t         (p4 == 0 && p5 == 1) + (p5 == 0 && p6 == 1) +\n",
    "\t\t\t         (p6 == 0 && p7 == 1) + (p7 == 0 && p8 == 1) +\n",
    "\t\t\t         (p8 == 0 && p9 == 1) + (p9 == 0 && p2 == 1);\n",
    "\t\t\tint B  = p2 + p3 + p4 + p5 + p6 + p7 + p8 + p9;\n",
    "\t\t\tint m1 = iter == 0 ? (p2 * p4 * p6) : (p2 * p4 * p8);\n",
    "\t\t\tint m2 = iter == 0 ? (p4 * p6 * p8) : (p2 * p6 * p8);\n",
    "\n",
    "\t\t\tif (A == 1 && B >= 2 && B <= 6 && m1 == 0 && m2 == 0) {\n",
    "\t\t\t\tM2(i,j) = 1;\n",
    "\t\t\t}\n",
    "\t\t}\n",
    "\t} \n",
    "\t\"\"\"\n",
    "\n",
    "\tweave.inline(expr, [\"I\", \"iter\", \"M\"])\n",
    "\treturn (I & ~M)\n",
    "\n",
    "\n",
    "def thinning(src):\n",
    "\tdst = src.copy() / 255\n",
    "\tprev = np.zeros(src.shape[:2], np.uint8)\n",
    "\tdiff = None\n",
    "\n",
    "\twhile True:\n",
    "\t\tdst = _thinningIteration(dst, 0)\n",
    "\t\tdst = _thinningIteration(dst, 1)\n",
    "\t\tdiff = np.absolute(dst - prev)\n",
    "\t\tprev = dst.copy()\n",
    "\t\tif np.sum(diff) == 0:\n",
    "\t\t\tbreak\n",
    "\n",
    "\treturn dst * 255\n",
    "\n"
   ]
  }
 ],
 "metadata": {
  "kernelspec": {
   "display_name": "Python 2",
   "language": "python",
   "name": "python2"
  },
  "language_info": {
   "codemirror_mode": {
    "name": "ipython",
    "version": 2
   },
   "file_extension": ".py",
   "mimetype": "text/x-python",
   "name": "python",
   "nbconvert_exporter": "python",
   "pygments_lexer": "ipython2",
   "version": "2.7.14"
  }
 },
 "nbformat": 4,
 "nbformat_minor": 2
}
