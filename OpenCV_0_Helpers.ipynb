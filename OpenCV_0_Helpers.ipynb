{
 "cells": [
  {
   "cell_type": "markdown",
   "metadata": {},
   "source": [
    "# Rotate an Image without cropping"
   ]
  },
  {
   "cell_type": "code",
   "execution_count": 1,
   "metadata": {
    "collapsed": true
   },
   "outputs": [],
   "source": [
    "import math\n",
    "\n",
    "def rotate_image(mat, angle):\n",
    "    height, width = mat.shape[:2]\n",
    "    image_center = (width / 2, height / 2)\n",
    "\n",
    "    rotation_mat = cv2.getRotationMatrix2D(image_center, angle, 1)\n",
    "\n",
    "    radians = math.radians(angle)\n",
    "    sin = math.sin(radians)\n",
    "    cos = math.cos(radians)\n",
    "    bound_w = int((height * abs(sin)) + (width * abs(cos)))\n",
    "    bound_h = int((height * abs(cos)) + (width * abs(sin)))\n",
    "\n",
    "    rotation_mat[0, 2] += ((bound_w / 2) - image_center[0])\n",
    "    rotation_mat[1, 2] += ((bound_h / 2) - image_center[1])\n",
    "\n",
    "    rotated_mat = cv2.warpAffine(mat, rotation_mat, (bound_w, bound_h))\n",
    "    return rotated_mat"
   ]
  },
  {
   "cell_type": "markdown",
   "metadata": {},
   "source": [
    "# Other stuff"
   ]
  },
  {
   "cell_type": "code",
   "execution_count": 7,
   "metadata": {
    "collapsed": true
   },
   "outputs": [],
   "source": [
    "import cv2\n",
    "import numpy as np\n",
    "\n",
    "image = cv2.imread('images/fake_1.jpg')\n",
    "\n",
    "height, width = image.shape[:2]\n",
    "\n",
    "cv2.imshow('Original', image)\n",
    "cv2.waitKey(0)\n",
    "\n",
    "# Scaling image\n",
    "_h, _w = np.float64(image.shape[:2])\n",
    "height = 500\n",
    "width  = int(height*(_w/_h))\n",
    "img_scaled = cv2.resize(image, (width, height), interpolation = cv2.INTER_AREA)\n",
    "cv2.imshow('Scaled', img_scaled)\n",
    "cv2.waitKey(0)\n",
    "\n",
    "# Rotating image\n",
    "# Divide by two to rotate the image around its centre\n",
    "#rotation_matrix = cv2.getRotationMatrix2D((height/2 , width/2), 90, 1)\n",
    "#rotated_image = cv2.warpAffine(image, rotation_matrix, (height, width))\n",
    "rotated_image = rotate_image(img_scaled, 90)\n",
    "\n",
    "cv2.imwrite('images/firma_fake.jpg', rotated_image)\n",
    "\n",
    "cv2.imshow('Rotated', rotated_image)\n",
    "cv2.waitKey(0)\n",
    "\n",
    "\n",
    "\n",
    "cv2.destroyAllWindows()"
   ]
  }
 ],
 "metadata": {
  "kernelspec": {
   "display_name": "Python 2",
   "language": "python",
   "name": "python2"
  },
  "language_info": {
   "codemirror_mode": {
    "name": "ipython",
    "version": 2
   },
   "file_extension": ".py",
   "mimetype": "text/x-python",
   "name": "python",
   "nbconvert_exporter": "python",
   "pygments_lexer": "ipython2",
   "version": "2.7.14"
  }
 },
 "nbformat": 4,
 "nbformat_minor": 2
}
